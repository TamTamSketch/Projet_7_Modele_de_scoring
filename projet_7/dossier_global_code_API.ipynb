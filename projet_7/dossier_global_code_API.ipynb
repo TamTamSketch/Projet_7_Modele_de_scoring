{
 "cells": [
  {
   "cell_type": "markdown",
   "metadata": {},
   "source": [
    "<span style=\"color:yellow\">LIBRAIRIES ET FONCTIONS</span>"
   ]
  },
  {
   "cell_type": "code",
   "execution_count": 1,
   "metadata": {},
   "outputs": [],
   "source": [
    "import pandas as pd\n",
    "import xgboost as xgb\n",
    "import os\n",
    "import pickle\n",
    "import flask\n",
    "from flask import request, jsonify\n",
    "import numpy as np\n",
    "import json\n",
    "import requests"
   ]
  },
  {
   "cell_type": "markdown",
   "metadata": {},
   "source": [
    "<span style=\"color:yellow\">CHARGEMENT DU MODÈLE</span>"
   ]
  },
  {
   "cell_type": "markdown",
   "metadata": {},
   "source": [
    "Flask est un micro-framework web léger et flexible pour le développement d'applications web en Python. Il a été créé par Armin Ronacher et est distribué sous licence BSD. Flask est considéré comme un micro-framework car il ne nécessite que les packages Python de base et dispose d'un noyau minimaliste, mais il est facilement extensible grâce à ses nombreuses extensions tierces.\n",
    "\n",
    "Voici quelques caractéristiques clés de Flask :\n",
    "\n",
    "Léger et modulaire : Flask a un noyau minimal et est facile à configurer. Il vous permet de commencer rapidement avec un projet web.\n",
    "\n",
    "Extensible : Flask peut être étendu avec des extensions tierces pour ajouter des fonctionnalités supplémentaires comme la gestion des bases de données, la validation des formulaires, la mise en cache, etc.\n",
    "\n",
    "Débogage intégré : Flask intègre un serveur de développement et un débogueur pour faciliter le développement et le débogage.\n",
    "\n",
    "Routage URL : Flask fournit un système de routage URL simple mais puissant pour mapper les URL aux fonctions Python.\n",
    "\n",
    "Rendu de modèles : Flask prend en charge les moteurs de rendu de modèles comme Jinja2, ce qui facilite la génération de contenu dynamique.\n",
    "\n",
    "Requêtes et réponses : Flask facilite la manipulation des requêtes HTTP et la construction de réponses.\n",
    "\n",
    "Intégration avec les bibliothèques Python existantes : Flask peut facilement s'intégrer avec d'autres bibliothèques Python populaires comme SQLAlchemy pour la gestion des bases de données, Werkzeug pour les utilitaires WSGI, etc.\n",
    "\n",
    "Flask est souvent utilisé pour créer des applications web simples, des API RESTful, des services web ou des prototypes rapides. Il est apprécié pour sa simplicité, sa flexibilité et sa facilité d'apprentissage. Cependant, pour des projets plus importants ou complexes, des frameworks plus complets comme Django peuvent être préférés."
   ]
  },
  {
   "cell_type": "code",
   "execution_count": null,
   "metadata": {},
   "outputs": [],
   "source": [
    "import os\n",
    "import pickle\n",
    "import numpy as np\n",
    "import xgboost as xgb\n",
    "\n",
    "# Chemin vers le dossier du projet Poetry\n",
    "project_dir = '/home/tamara-daniel-tricot/Bureau/0_Projets_ParcoursDataScientist/P7/Projet_7/'\n",
    "\n",
    "# Charger le modèle XGBoost\n",
    "model_path = os.path.join(project_dir, 'mon_modele.json')\n",
    "print(f\"Chargement du modèle depuis : {model_path}\")\n",
    "model = xgb.Booster(model_file=model_path)\n",
    "\n",
    "# Charger le seuil de décision\n",
    "threshold_path = os.path.join(project_dir, 'seuil_decision.pkl')\n",
    "print(f\"Chargement du seuil de décision depuis : {threshold_path}\")\n",
    "with open(threshold_path, 'rb') as file:\n",
    "    threshold = pickle.load(file)\n",
    "    print(f\"Seuil de décision chargé : {threshold}\")\n",
    "\n",
    "# Fonction pour faire des prédictions avec le modèle chargé\n",
    "def predict(X):\n",
    "    print(\"Données d'entrée X :\")\n",
    "    print(X)\n",
    "    print(f\"Nombre d'instances : {len(X)}\")\n",
    "    print(f\"Nombre de colonnes : {len(X[0])}\")\n",
    "    print(\"Types de données des colonnes :\")\n",
    "    for i, instance in enumerate(X[:5]):  # Affiche les 5 premières instances\n",
    "        print(f\"Instance {i} : {[type(val) for val in instance]}\")\n",
    "\n",
    "    dmatrix = xgb.DMatrix(np.array(X), missing=np.inf)\n",
    "    prediction_proba = model.predict(dmatrix)\n",
    "    print(\"Types de données des probabilités de prédiction :\")\n",
    "    print(type(prediction_proba))\n",
    "    if isinstance(prediction_proba, np.ndarray):\n",
    "        prediction_proba = prediction_proba.tolist()\n",
    "        print(\"Conversion des probabilités de prédiction en liste Python\")\n",
    "    else:\n",
    "        print(\"Les probabilités de prédiction sont déjà une liste Python\")\n",
    "\n",
    "    prediction = [1 if proba >= threshold else 0 for proba in prediction_proba]\n",
    "    print(\"Types de données des prédictions :\")\n",
    "    print(type(prediction))\n",
    "    if isinstance(prediction, np.ndarray):\n",
    "        prediction = prediction.tolist()\n",
    "        print(\"Conversion des prédictions en liste Python\")\n",
    "    else:\n",
    "        print(\"Les prédictions sont déjà une liste Python\")\n",
    "\n",
    "    return prediction, prediction_proba"
   ]
  },
  {
   "cell_type": "markdown",
   "metadata": {},
   "source": [
    "<span style=\"color:yellow\">DÉPLOIEMENT DE L'API Flask : pour démarrer le serveur Flask et pouvoir envoyer des requêtes à l'API"
   ]
  },
  {
   "cell_type": "code",
   "execution_count": null,
   "metadata": {},
   "outputs": [
    {
     "name": "stdout",
     "output_type": "stream",
     "text": [
      " * Serving Flask app '__main__'\n",
      " * Debug mode: on\n"
     ]
    },
    {
     "name": "stderr",
     "output_type": "stream",
     "text": [
      "\u001b[31m\u001b[1mWARNING: This is a development server. Do not use it in a production deployment. Use a production WSGI server instead.\u001b[0m\n",
      " * Running on http://127.0.0.1:5000\n",
      "\u001b[33mPress CTRL+C to quit\u001b[0m\n",
      " * Restarting with stat\n",
      "Traceback (most recent call last):\n",
      "  File \"<frozen runpy>\", line 198, in _run_module_as_main\n",
      "  File \"<frozen runpy>\", line 88, in _run_code\n",
      "  File \"/home/tamara-daniel-tricot/Bureau/0_Projets_ParcoursDataScientist/P7/Projet_7/.venv/lib/python3.12/site-packages/ipykernel_launcher.py\", line 18, in <module>\n",
      "    app.launch_new_instance()\n",
      "  File \"/home/tamara-daniel-tricot/Bureau/0_Projets_ParcoursDataScientist/P7/Projet_7/.venv/lib/python3.12/site-packages/traitlets/config/application.py\", line 1074, in launch_instance\n",
      "    app.initialize(argv)\n",
      "  File \"/home/tamara-daniel-tricot/Bureau/0_Projets_ParcoursDataScientist/P7/Projet_7/.venv/lib/python3.12/site-packages/traitlets/config/application.py\", line 118, in inner\n",
      "    return method(app, *args, **kwargs)\n",
      "           ^^^^^^^^^^^^^^^^^^^^^^^^^^^^\n",
      "  File \"/home/tamara-daniel-tricot/Bureau/0_Projets_ParcoursDataScientist/P7/Projet_7/.venv/lib/python3.12/site-packages/ipykernel/kernelapp.py\", line 692, in initialize\n",
      "    self.init_sockets()\n",
      "  File \"/home/tamara-daniel-tricot/Bureau/0_Projets_ParcoursDataScientist/P7/Projet_7/.venv/lib/python3.12/site-packages/ipykernel/kernelapp.py\", line 331, in init_sockets\n",
      "    self.shell_port = self._bind_socket(self.shell_socket, self.shell_port)\n",
      "                      ^^^^^^^^^^^^^^^^^^^^^^^^^^^^^^^^^^^^^^^^^^^^^^^^^^^^^\n",
      "  File \"/home/tamara-daniel-tricot/Bureau/0_Projets_ParcoursDataScientist/P7/Projet_7/.venv/lib/python3.12/site-packages/ipykernel/kernelapp.py\", line 253, in _bind_socket\n",
      "    return self._try_bind_socket(s, port)\n",
      "           ^^^^^^^^^^^^^^^^^^^^^^^^^^^^^^\n",
      "  File \"/home/tamara-daniel-tricot/Bureau/0_Projets_ParcoursDataScientist/P7/Projet_7/.venv/lib/python3.12/site-packages/ipykernel/kernelapp.py\", line 229, in _try_bind_socket\n",
      "    s.bind(\"tcp://%s:%i\" % (self.ip, port))\n",
      "  File \"/home/tamara-daniel-tricot/Bureau/0_Projets_ParcoursDataScientist/P7/Projet_7/.venv/lib/python3.12/site-packages/zmq/sugar/socket.py\", line 311, in bind\n",
      "    super().bind(addr)\n",
      "  File \"_zmq.py\", line 898, in zmq.backend.cython._zmq.Socket.bind\n",
      "  File \"_zmq.py\", line 160, in zmq.backend.cython._zmq._check_rc\n",
      "zmq.error.ZMQError: Address already in use (addr='tcp://127.0.0.1:9002')\n"
     ]
    },
    {
     "ename": "SystemExit",
     "evalue": "1",
     "output_type": "error",
     "traceback": [
      "An exception has occurred, use %tb to see the full traceback.\n",
      "\u001b[0;31mSystemExit\u001b[0m\u001b[0;31m:\u001b[0m 1\n"
     ]
    },
    {
     "name": "stderr",
     "output_type": "stream",
     "text": [
      "/home/tamara-daniel-tricot/Bureau/0_Projets_ParcoursDataScientist/P7/Projet_7/.venv/lib/python3.12/site-packages/IPython/core/interactiveshell.py:3585: UserWarning: To exit: use 'exit', 'quit', or Ctrl-D.\n",
      "  warn(\"To exit: use 'exit', 'quit', or Ctrl-D.\", stacklevel=1)\n"
     ]
    }
   ],
   "source": [
    "import flask\n",
    "from flask_debugtoolbar import DebugToolbarExtension\n",
    "import importlib.metadata\n",
    "import numpy as np\n",
    "import os\n",
    "import json\n",
    "import pickle\n",
    "import xgboost as xgb\n",
    "from modele_xgboost import predict\n",
    "import logging\n",
    "from logging.handlers import RotatingFileHandler\n",
    "\n",
    "# Configurer les logs\n",
    "file_handler = RotatingFileHandler('flask_app.log', maxBytes=16384, backupCount=20)\n",
    "file_formatter = logging.Formatter('%(asctime)s %(levelname)s: %(message)s [in %(pathname)s:%(lineno)d]')\n",
    "file_handler.setFormatter(file_formatter)\n",
    "file_handler.setLevel(logging.INFO)\n",
    "\n",
    "app = flask.Flask(__name__)\n",
    "app.logger.addHandler(file_handler)\n",
    "app.logger.setLevel(logging.INFO)\n",
    "\n",
    "flask_version = importlib.metadata.version('flask')\n",
    "print(f\"Version de Flask : {flask_version}\")\n",
    "\n",
    "@app.route('/')\n",
    "def index():\n",
    "    return 'Bienvenue sur mon API Flask !'\n",
    "\n",
    "@app.route('/predict', methods=['GET', 'POST'])\n",
    "def predict_endpoint():\n",
    "    app.logger.info(f\"Requête reçue à l'URL : {flask.request.url}\")\n",
    "    data = flask.request.get_json()['data']\n",
    "    X = np.array([np.array(instance) for instance in data])\n",
    "\n",
    "    try:         \n",
    "        prediction, prediction_proba = predict(X)\n",
    "        app.logger.info('Prédiction effectuée avec succès')\n",
    "        return flask.jsonify({\n",
    "            'prediction': prediction,\n",
    "            'prediction_proba': prediction_proba\n",
    "        })\n",
    "    except Exception as e:\n",
    "        app.logger.error(f'Erreur lors de la prédiction : {e}')\n",
    "        return flask.jsonify({'error': str(e)}), 500\n",
    "\n",
    "if __name__ == '__main__':\n",
    "    print(\"Démarrage du serveur Flask...\")\n",
    "    app.run(debug=True)\n",
    "    print(\"Serveur Flask démarré\")"
   ]
  },
  {
   "cell_type": "markdown",
   "metadata": {},
   "source": [
    "<span style=\"color:yellow\">INTERACTION AVEC L'API : pour envoyer un jeu de données au modèle xgboost chargé sur l'API"
   ]
  },
  {
   "cell_type": "code",
   "execution_count": null,
   "metadata": {},
   "outputs": [],
   "source": [
    "import pandas as pd\n",
    "import requests\n",
    "import numpy as np\n",
    "\n",
    "# Charger les données de test depuis un fichier CSV\n",
    "df_final_test = pd.read_csv('/home/tamara-daniel-tricot/Bureau/0_Projets_ParcoursDataScientist/P7/Projet_7/df_final_test.csv')\n",
    "\n",
    "# Prendre les 5 premières lignes de df_final_test\n",
    "df_final_test_sample = df_final_test.head(100000)\n",
    "\n",
    "# Remplacer les valeurs NaN et infinies par une valeur valide (par exemple, 0)\n",
    "df_final_test_sample = df_final_test_sample.replace([np.inf, -np.inf, np.nan], 0)\n",
    "\n",
    "# Convertir le DataFrame en un tableau NumPy\n",
    "X_test_sample = df_final_test_sample.values\n",
    "\n",
    "# Créer un dictionnaire avec la clé \"data\" et la valeur étant le tableau NumPy\n",
    "data = {\"data\": X_test_sample.tolist()}\n",
    "\n",
    "# Envoyer une requête POST à l'API Flask\n",
    "response = requests.post('http://localhost:5000/predict', json=data)\n",
    "\n",
    "# Récupérer les prédictions et les probabilités à partir de la réponse de l'API\n",
    "if response.status_code == 200:\n",
    "    predictions = response.json()\n",
    "    print(\"Prédictions :\", predictions['prediction'])\n",
    "    print(\"Probabilités :\", predictions['prediction_proba'])\n",
    "else:\n",
    "    print(f\"Erreur : {response.status_code}\")"
   ]
  }
 ],
 "metadata": {
  "kernelspec": {
   "display_name": ".venv",
   "language": "python",
   "name": "python3"
  },
  "language_info": {
   "codemirror_mode": {
    "name": "ipython",
    "version": 3
   },
   "file_extension": ".py",
   "mimetype": "text/x-python",
   "name": "python",
   "nbconvert_exporter": "python",
   "pygments_lexer": "ipython3",
   "version": "3.12.3"
  }
 },
 "nbformat": 4,
 "nbformat_minor": 2
}
